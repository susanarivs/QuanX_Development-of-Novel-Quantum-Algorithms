{
 "cells": [
  {
   "cell_type": "code",
   "execution_count": 2,
   "metadata": {},
   "outputs": [],
   "source": [
    "def classical_karatsuba_square(v: int) -> int:\n",
    "    n = v.bit_length()\n",
    "    if n <= 32:\n",
    "        # Base case: Use standard multiplication\n",
    "        return v ** 2\n",
    "\n",
    "    pivot = n >> 1\n",
    "    low = v & ~((-1) << pivot)\n",
    "    high = v >> pivot\n",
    "\n",
    "    low_sq = classical_karatsuba_square(low)\n",
    "    high_sq = classical_karatsuba_square(high)\n",
    "    sum_sq = classical_karatsuba_square(low + high)\n",
    "\n",
    "    return (\n",
    "        low_sq\n",
    "        + (sum_sq - low_sq - high_sq) << pivot\n",
    "        + high_sq << (pivot << 1)\n",
    "    )\n"
   ]
  },
  {
   "cell_type": "code",
   "execution_count": 3,
   "metadata": {},
   "outputs": [
    {
     "name": "stdout",
     "output_type": "stream",
     "text": [
      "152399025\n"
     ]
    }
   ],
   "source": [
    "result = classical_karatsuba_square(12345)\n",
    "print(result)\n"
   ]
  }
 ],
 "metadata": {
  "kernelspec": {
   "display_name": "Python 3",
   "language": "python",
   "name": "python3"
  },
  "language_info": {
   "codemirror_mode": {
    "name": "ipython",
    "version": 3
   },
   "file_extension": ".py",
   "mimetype": "text/x-python",
   "name": "python",
   "nbconvert_exporter": "python",
   "pygments_lexer": "ipython3",
   "version": "3.10.11"
  }
 },
 "nbformat": 4,
 "nbformat_minor": 2
}
