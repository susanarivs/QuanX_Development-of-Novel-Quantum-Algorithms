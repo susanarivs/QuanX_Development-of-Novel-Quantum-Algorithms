{
 "cells": [
  {
   "cell_type": "code",
   "execution_count": null,
   "id": "a1acd08d-d3aa-41de-b75d-393a267abf13",
   "metadata": {},
   "outputs": [],
   "source": []
  },
  {
   "cell_type": "code",
   "execution_count": 2,
   "id": "bfa7ea6f-3170-44af-abe1-847a3b7c1ec5",
   "metadata": {},
   "outputs": [
    {
     "name": "stdout",
     "output_type": "stream",
     "text": [
      "Opening: https://platform.classiq.io/circuit/6bb24848-33f9-42e9-bd0b-aea20954473f?version=0.44.0\n"
     ]
    }
   ],
   "source": [
    "from classiq import (\n",
    "    PHASE,\n",
    "    QArray,\n",
    "    QBit,\n",
    "    CInt,\n",
    "    Output,\n",
    "    X,\n",
    "    allocate,\n",
    "    control,\n",
    "    create_model,\n",
    "    invert,\n",
    "    qft,\n",
    "    repeat,\n",
    "    show,\n",
    "    synthesize,\n",
    "    write_qmod,\n",
    ")\n",
    "from classiq.qmod import *\n",
    "from classiq.qmod.symbolic import pi\n",
    "\n",
    "@qfunc\n",
    "def phase_rot(x: QArray[QBit], N: CInt) -> None:\n",
    "    repeat(\n",
    "        count=x.len,\n",
    "        iteration=lambda i: repeat(\n",
    "            count=x.len,\n",
    "            iteration=lambda j: repeat(\n",
    "                count=x.len,\n",
    "                iteration=lambda k: PHASE(\n",
    "                    (2 * pi * (2 ** (i + j + k))) / N, x[i]\n",
    "                ),\n",
    "            ),\n",
    "        ),\n",
    "    )\n",
    "\n",
    "@qfunc\n",
    "def ccmod_add(\n",
    "    N: CInt,\n",
    "    y: QArray[QBit],\n",
    "    c1: QBit,\n",
    "    c2: QBit,\n",
    "    aux: QBit\n",
    ") -> None:\n",
    "    ctrl = QArray(\"ctrl\")\n",
    "    bind([c1, c2], ctrl)\n",
    "    control(ctrl, lambda: phase_rot(y, N))\n",
    "    bind(ctrl, [c1, c2])\n",
    "\n",
    "@qfunc\n",
    "def main(\n",
    "    b: Output[QNum],\n",
    "    c: Output[QArray[8]],\n",
    "    ctrl: Output[QArray[2]],\n",
    "    aux: Output[QBit]\n",
    ") -> None:\n",
    "    allocate(8, c)\n",
    "    allocate(1, b)\n",
    "    allocate(2, ctrl)\n",
    "    allocate(1, aux)\n",
    "\n",
    "    inplace_prepare_int(8, b)\n",
    "    X(ctrl[0])\n",
    "    X(ctrl[1])\n",
    "\n",
    "    within_apply(\n",
    "        lambda: qft(b),\n",
    "        lambda: ccmod_add(8, c, ctrl[0], ctrl[1], aux),\n",
    "    )\n",
    "\n",
    "qmod = create_model(main)\n",
    "\n",
    "\n",
    "\n",
    "qprog = synthesize(qmod)\n",
    "write_qmod(qmod, \"ccmod_add_model\")\n",
    "show(qprog)\n"
   ]
  },
  {
   "cell_type": "code",
   "execution_count": null,
   "id": "6c7a3348-8f77-4ca7-a89b-76db3d8febe6",
   "metadata": {},
   "outputs": [],
   "source": []
  },
  {
   "cell_type": "code",
   "execution_count": 3,
   "id": "678aa304-c42b-4dd6-8bda-0739e32bb3c2",
   "metadata": {},
   "outputs": [],
   "source": [
    "from classiq import execute\n",
    "\n",
    "results = execute(qprog).result()\n",
    "res = results[0].value"
   ]
  },
  {
   "cell_type": "code",
   "execution_count": 4,
   "id": "cbdcb58b-75fa-4b0f-a791-425aa0f6e3be",
   "metadata": {},
   "outputs": [
    {
     "data": {
      "text/plain": [
       "ExecutionDetails(vendor_format_result={}, counts={'011000000000': 2048}, counts_lsb_right=True, parsed_states={'011000000000': {'b': 0.0, 'c': [0, 0, 0, 0, 0, 0, 0, 0], 'ctrl': [1, 1], 'aux': 0.0}}, histogram=None, output_qubits_map={'b': (0,), 'c': (1, 2, 3, 4, 5, 6, 7, 8), 'ctrl': (9, 10), 'aux': (11,)}, state_vector=None, parsed_state_vector_states=None, physical_qubits_map={'b': (8,), 'c': (0, 1, 2, 3, 4, 5, 6, 7), 'ctrl': (9, 10), 'aux': (11,)}, num_shots=2048)"
      ]
     },
     "execution_count": 4,
     "metadata": {},
     "output_type": "execute_result"
    }
   ],
   "source": [
    "res"
   ]
  },
  {
   "cell_type": "code",
   "execution_count": null,
   "id": "eb56a25f-c519-4fd6-9b8c-7acf35d5054c",
   "metadata": {},
   "outputs": [],
   "source": []
  }
 ],
 "metadata": {
  "kernelspec": {
   "display_name": "Python 3 (ipykernel)",
   "language": "python",
   "name": "python3"
  },
  "language_info": {
   "codemirror_mode": {
    "name": "ipython",
    "version": 3
   },
   "file_extension": ".py",
   "mimetype": "text/x-python",
   "name": "python",
   "nbconvert_exporter": "python",
   "pygments_lexer": "ipython3",
   "version": "3.11.9"
  }
 },
 "nbformat": 4,
 "nbformat_minor": 5
}
